{
 "cells": [
  {
   "cell_type": "code",
   "execution_count": null,
   "id": "667b6939",
   "metadata": {},
   "outputs": [],
   "source": [
    "import pandas as pd\n",
    "\n",
    "path = \"/Users/sethfried/Fantasy Football/data/Nfl_Stadiums/nfl_stadiums.csv\"\n",
    "stadiums = pd.read_csv(path)\n",
    "\n",
    "team_mapping = {\n",
    "    \"Arizona Cardinals\": \"ARI\",\n",
    "    \"Atlanta Falcons\": \"ATL\",\n",
    "    \"Baltimore Ravens\": \"BAL\",\n",
    "    \"Buffalo Bills\": \"BUF\",\n",
    "    \"Carolina Panthers\": \"CAR\",\n",
    "    \"Chicago Bears\": \"CHI\",\n",
    "    \"Cincinnati Bengals\": \"CIN\",\n",
    "    \"Cleveland Browns\": \"CLE\",\n",
    "    \"Dallas Cowboys\": \"DAL\",\n",
    "    \"Denver Broncos\": \"DEN\",\n",
    "    \"Detroit Lions\": \"DET\",\n",
    "    \"Green Bay Packers\": \"GNB\",\n",
    "    \"Houston Texans\": \"HOU\",\n",
    "    \"Indianapolis Colts\": \"IND\",\n",
    "    \"Jacksonville Jaguars\": \"JAX\",\n",
    "    \"Kansas City Chiefs\": \"KAN\",\n",
    "    \"Los Angeles Chargers\": \"LAC\",\n",
    "    \"Los Angeles Rams\": \"LAR\",\n",
    "    \"Las Vegas Raiders\": \"LVR\",\n",
    "    \"Oakland Raiders\": \"LVR\",      \n",
    "    \"Miami Dolphins\": \"MIA\",\n",
    "    \"Minnesota Vikings\": \"MIN\",\n",
    "    \"New England Patriots\": \"NWE\",\n",
    "    \"New Orleans Saints\": \"NOR\",\n",
    "    \"New York Giants\": \"NYG\",\n",
    "    \"New York Jets\": \"NYJ\",\n",
    "    \"Philadelphia Eagles\": \"PHI\",\n",
    "    \"Pittsburgh Steelers\": \"PIT\",\n",
    "    \"Seattle Seahawks\": \"SEA\",\n",
    "    \"San Francisco 49ers\": \"SFO\",\n",
    "    \"Tampa Bay Buccaneers\": \"TAM\",\n",
    "    \"Tennessee Titans\": \"TEN\",\n",
    "    \"Washington Redskins\": \"WAS\",\n",
    "}\n",
    "\n",
    "\n",
    "stadiums['Team'] = stadiums['Team(s)'].map(team_mapping)\n",
    "\n",
    "unmapped = stadiums[stadiums['Team'].isna()]['Team(s)'].unique()\n",
    "if len(unmapped):\n",
    "    print(\"Warning: the following stadium entries were not mapped:\", unmapped)\n",
    "\n",
    "stadiums = stadiums.drop(columns=['Team(s)'])\n",
    "\n",
    "cols = ['Team'] + [c for c in stadiums.columns if c != 'Team']\n",
    "stadiums = stadiums[cols]\n"
   ]
  },
  {
   "cell_type": "code",
   "execution_count": 34,
   "id": "dede4c21",
   "metadata": {},
   "outputs": [
    {
     "name": "stdout",
     "output_type": "stream",
     "text": [
      "   Team                  Name  Capacity                Location  \\\n",
      "26  LVR  RingCentral Coliseum   56057.0     Oakland, California   \n",
      "27  CHI         Soldier Field   61500.0       Chicago, Illinois   \n",
      "28  ARI    State Farm Stadium   63400.0       Glendale, Arizona   \n",
      "29  JAX       TIAA Bank Field   69132.0   Jacksonville, Florida   \n",
      "30  MIN     U.S. Bank Stadium   66655.0  Minneapolis, Minnesota   \n",
      "\n",
      "                                 Surface    Roof type  Opened  \n",
      "26                         Bermuda grass         Open    1966  \n",
      "27                    Kentucky bluegrass         Open    1924  \n",
      "28                         Bermuda grass  Retractable    2006  \n",
      "29                         Bermuda grass         Open    1995  \n",
      "30  UBU Speed Series S5-M Synthetic Turf        Fixed    2016  \n"
     ]
    }
   ],
   "source": [
    "print(stadiums.tail())"
   ]
  },
  {
   "cell_type": "code",
   "execution_count": 35,
   "id": "48bbd9ee",
   "metadata": {},
   "outputs": [],
   "source": [
    "import pandas as pd\n",
    "\n",
    "# 1) Load the stadium lat/lon file\n",
    "path = \"/Users/sethfried/Fantasy Football/data/Nfl_Stadiums/NFL Stadium Latitude and Longtitude.csv\"\n",
    "stadiums_longlat = pd.read_csv(path)\n",
    "\n",
    "# 2) Define the mapping from full team name to 3-letter code\n",
    "team_mapping = {\n",
    "    \"Titans\": \"TEN\",\n",
    "    \"Giants\": \"NYG\",\n",
    "    \"Steelers\": \"PIT\",\n",
    "    \"Panthers\": \"CAR\",\n",
    "    \"Ravens\": \"BAL\",\n",
    "    \"Buccaneers\": \"TAM\",\n",
    "    \"Colts\": \"IND\",\n",
    "    \"Vikings\": \"MIN\",\n",
    "    \"Cardinals\": \"ARI\",\n",
    "    \"Cowboys\": \"DAL\",\n",
    "    \"Falcons\": \"ATL\",\n",
    "    \"Jets\": \"NYJ\",\n",
    "    \"Broncos\": \"DEN\",\n",
    "    \"Dolphins\": \"MIA\",\n",
    "    \"Eagles\": \"PHI\",\n",
    "    \"Bears\": \"CHI\",\n",
    "    \"Patriots\": \"NWE\",\n",
    "    \"Redskins\": \"WAS\",\n",
    "    \"Packers\": \"GNB\",\n",
    "    \"Chargers\": \"LAC\",\n",
    "    \"Saints\": \"NOR\",\n",
    "    \"Texans\": \"HOU\",\n",
    "    \"Bills\": \"BUF\",\n",
    "    \"Forty-Niners\": \"SFO\",\n",
    "    \"Jaguars\": \"JAX\",\n",
    "    \"Browns\": \"CLE\",\n",
    "    \"Raiders\": \"LVR\",\n",
    "    \"Chiefs\": \"KAN\",\n",
    "    \"Rams\": \"LAR\",\n",
    "    \"Seahawks\": \"SEA\",\n",
    "    \"Bengals\": \"CIN\",\n",
    "    \"Lions\": \"DET\"\n",
    "}\n",
    "\n",
    "# 3) Map to a new column\n",
    "stadiums_longlat['Team_Abbrev'] = stadiums_longlat['Team'].map(team_mapping)\n",
    "\n",
    "# 4) (Optional) Warn if any team names didn’t map\n",
    "unmapped = stadiums_longlat.loc[stadiums_longlat['Team_Abbrev'].isna(), 'Team'].unique()\n",
    "if len(unmapped):\n",
    "    print(\"Unmapped teams:\", unmapped)\n",
    "\n",
    "# 5) Reorder so abbreviation is first\n",
    "cols = ['Team_Abbrev'] + [c for c in stadiums_longlat.columns if c != 'Team_Abbrev']\n",
    "stadiums_longlat = stadiums_longlat[cols]\n"
   ]
  },
  {
   "cell_type": "code",
   "execution_count": 36,
   "id": "78f924a2",
   "metadata": {},
   "outputs": [
    {
     "name": "stdout",
     "output_type": "stream",
     "text": [
      "   Team_Abbrev      Team Conference   latitude   longitude    zip pic  \\\n",
      "27         KAN    Chiefs        AFC  39.048914  -94.484039  66027   y   \n",
      "28         LAR      Rams        NFC  38.632975  -90.188547  63101   y   \n",
      "29         SEA  Seahawks        NFC  47.595153 -122.331625  98102   y   \n",
      "30         CIN   Bengals        AFC  39.095442  -84.516039  45202   y   \n",
      "31         DET     Lions        NFC  42.340156  -83.045808  48205   y   \n",
      "\n",
      "   Unnamed: 6  \n",
      "27        NaN  \n",
      "28        NaN  \n",
      "29        NaN  \n",
      "30        NaN  \n",
      "31        NaN  \n"
     ]
    }
   ],
   "source": [
    "print(stadiums_longlat.tail())"
   ]
  },
  {
   "cell_type": "code",
   "execution_count": 37,
   "id": "a5674aea",
   "metadata": {},
   "outputs": [
    {
     "name": "stdout",
     "output_type": "stream",
     "text": [
      "   Team_Abbrev      Team Conference   latitude   longitude    zip pic  \\\n",
      "27         KAN    Chiefs        AFC  39.048914  -94.484039  66027   y   \n",
      "28         LAR      Rams        NFC  38.632975  -90.188547  63101   y   \n",
      "29         SEA  Seahawks        NFC  47.595153 -122.331625  98102   y   \n",
      "30         CIN   Bengals        AFC  39.095442  -84.516039  45202   y   \n",
      "31         DET     Lions        NFC  42.340156  -83.045808  48205   y   \n",
      "\n",
      "   Unnamed: 6  \n",
      "27        NaN  \n",
      "28        NaN  \n",
      "29        NaN  \n",
      "30        NaN  \n",
      "31        NaN  \n"
     ]
    }
   ],
   "source": [
    "df = pd.read_csv('/Users/sethfried/Fantasy Football/Cleaned Data/nfl_longlat_mapped.csv')\n",
    "print(df.tail())"
   ]
  },
  {
   "cell_type": "code",
   "execution_count": 38,
   "id": "db41d39c",
   "metadata": {},
   "outputs": [],
   "source": [
    "# Assume you already have two DataFrames:\n",
    "#   stadiums_longlat: with columns including 'Team_Abbrev', latitude, longitude, etc.\n",
    "#   stadium: with columns including 'Team' (3-letter code), Name, Capacity, Location, Surface, Roof type, Opened, etc.\n",
    "\n",
    "# Merge on the 3-letter team code\n",
    "stadiums_full = pd.merge(\n",
    "    stadiums_longlat,\n",
    "    stadiums,\n",
    "    left_on=\"Team_Abbrev\",\n",
    "    right_on=\"Team\",\n",
    "    how=\"left\",\n",
    "    validate=\"one_to_one\"\n",
    ")\n",
    "\n",
    "# Drop the now-redundant columns\n",
    "stadiums_full = stadiums_full.drop(\n",
    "    columns=[\"Team_x\", \"zip\", \"pic\", \"Unnamed: 6\", \"Team_y\"],\n",
    "    errors=\"ignore\"\n",
    ")\n",
    "# After merging and dropping columns, rename Team_Abbrev → Team\n",
    "stadiums_full = stadiums_full.rename(columns={'Team_Abbrev': 'Team'})\n",
    "\n",
    "\n",
    "# Now stadiums_full contains all lat/lon fields plus the stadium metadata\n"
   ]
  },
  {
   "cell_type": "code",
   "execution_count": 39,
   "id": "9a7c4fee",
   "metadata": {},
   "outputs": [
    {
     "name": "stdout",
     "output_type": "stream",
     "text": [
      "Index(['Team', 'Conference', 'latitude', 'longitude', 'Name', 'Capacity',\n",
      "       'Location', 'Surface', 'Roof type', 'Opened'],\n",
      "      dtype='object')\n"
     ]
    }
   ],
   "source": [
    "print(stadiums_full.columns)"
   ]
  },
  {
   "cell_type": "code",
   "execution_count": 44,
   "id": "065353bc",
   "metadata": {},
   "outputs": [
    {
     "name": "stdout",
     "output_type": "stream",
     "text": [
      "Saved merged stadium data to: stadiums_full.csv\n"
     ]
    }
   ],
   "source": [
    "# Save the merged stadium data to the project’s base directory\n",
    "output_path = \"stadiums_full.csv\"\n",
    "stadiums_full.to_csv(output_path, index=False)\n",
    "print(f\"Saved merged stadium data to: {output_path}\")\n"
   ]
  }
 ],
 "metadata": {
  "kernelspec": {
   "display_name": ".venv",
   "language": "python",
   "name": "python3"
  },
  "language_info": {
   "codemirror_mode": {
    "name": "ipython",
    "version": 3
   },
   "file_extension": ".py",
   "mimetype": "text/x-python",
   "name": "python",
   "nbconvert_exporter": "python",
   "pygments_lexer": "ipython3",
   "version": "3.9.6"
  }
 },
 "nbformat": 4,
 "nbformat_minor": 5
}
